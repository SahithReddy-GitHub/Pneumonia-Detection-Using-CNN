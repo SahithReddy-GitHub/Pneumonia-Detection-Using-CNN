{
  "cells": [
    {
      "cell_type": "markdown",
      "metadata": {
        "id": "view-in-github",
        "colab_type": "text"
      },
      "source": [
        "<a href=\"https://colab.research.google.com/github/SahithReddy-GitHub/Pneumonia-Detection-Using-CNN/blob/main/Inception_V3_256x256_Pneumonia.ipynb\" target=\"_parent\"><img src=\"https://colab.research.google.com/assets/colab-badge.svg\" alt=\"Open In Colab\"/></a>"
      ]
    },
    {
      "cell_type": "markdown",
      "source": [
        "Model :- Inception V3<br/>\n",
        "Total Data :- 5850<br/>\n",
        "Image_size :- 256x256<br/>\n",
        "Epochs :- 5<br/>\n",
        "Accuracy :-  91.7"
      ],
      "metadata": {
        "id": "g_Q7RIHiTyOv"
      }
    },
    {
      "cell_type": "code",
      "execution_count": 1,
      "metadata": {
        "id": "cM7wGcEPK80G"
      },
      "outputs": [],
      "source": [
        "import pandas as pd\n",
        "import numpy as np\n",
        "import matplotlib.pyplot as plt\n",
        "import os\n",
        "import cv2\n",
        "\n",
        "import tensorflow as tf\n",
        "from tensorflow.keras import models, layers\n",
        "from tensorflow import keras\n",
        "from tensorflow.keras.models import Sequential\n",
        "from tensorflow.keras.layers import *\n",
        "\n",
        "from sklearn.utils import shuffle\n",
        "from sklearn.model_selection import train_test_split\n",
        "from sklearn.model_selection import cross_val_score"
      ]
    },
    {
      "cell_type": "code",
      "execution_count": 2,
      "metadata": {
        "colab": {
          "base_uri": "https://localhost:8080/"
        },
        "id": "z4hLVftRNMHq",
        "outputId": "f6335f6e-2be7-4ad3-9f00-522d8056c53b"
      },
      "outputs": [
        {
          "output_type": "stream",
          "name": "stdout",
          "text": [
            "Shape :  (1341, 256, 256, 3)\n"
          ]
        },
        {
          "output_type": "execute_result",
          "data": {
            "text/plain": [
              "(1341, 256, 256, 3)"
            ]
          },
          "metadata": {},
          "execution_count": 2
        }
      ],
      "source": [
        "normal_train_path=r\"/content/drive/MyDrive/Resized_Data/R_NORMAL_Gray_1341_train\"\n",
        "normal_train_img=os.listdir(normal_train_path)\n",
        "\n",
        "normal_train=[]\n",
        "for img in normal_train_img:\n",
        "  input_img=cv2.imread(normal_train_path+'/'+img,0)\n",
        "  input_img=cv2.cvtColor(input_img,cv2.COLOR_GRAY2RGB)\n",
        "  normal_train.append(input_img)\n",
        "print(\"Shape : \",np.shape(normal_train))\n",
        "\n",
        "normal_train_array = np.array(normal_train)\n",
        "normal_train_array=normal_train_array.astype('float32')\n",
        "\n",
        "normal_train_array=normal_train_array/255\n",
        "normal_train_array.shape"
      ]
    },
    {
      "cell_type": "code",
      "execution_count": 3,
      "metadata": {
        "colab": {
          "base_uri": "https://localhost:8080/"
        },
        "id": "KPVKaDkINNEy",
        "outputId": "b564a1e0-7155-48e3-cb63-834f564fc359"
      },
      "outputs": [
        {
          "output_type": "stream",
          "name": "stdout",
          "text": [
            "Shape :  (3885, 256, 256, 3)\n"
          ]
        },
        {
          "output_type": "execute_result",
          "data": {
            "text/plain": [
              "(3885, 256, 256, 3)"
            ]
          },
          "metadata": {},
          "execution_count": 3
        }
      ],
      "source": [
        "pneumonic_train_path=r\"/content/drive/MyDrive/Resized_Data/R_PNEUMONIA_Gray_3875_train\"\n",
        "pneumonic_train_img=os.listdir(pneumonic_train_path)\n",
        "\n",
        "pneumonic_train=[]\n",
        "for img in pneumonic_train_img:\n",
        "  input_img=cv2.imread(pneumonic_train_path+'/'+img,0)\n",
        "  input_img=cv2.cvtColor(input_img,cv2.COLOR_GRAY2RGB)\n",
        "  pneumonic_train.append(input_img)\n",
        "print(\"Shape : \",np.shape(pneumonic_train))\n",
        "\n",
        "pneumonic_train_array = np.array(pneumonic_train)\n",
        "pneumonic_train_array=pneumonic_train_array.astype('float32')\n",
        "\n",
        "pneumonic_train_array=pneumonic_train_array/255\n",
        "pneumonic_train_array.shape"
      ]
    },
    {
      "cell_type": "code",
      "execution_count": 4,
      "metadata": {
        "colab": {
          "base_uri": "https://localhost:8080/"
        },
        "id": "59EjdsjQR_MK",
        "outputId": "b003b591-5ffc-473c-a858-6e5ff5b159ea"
      },
      "outputs": [
        {
          "output_type": "stream",
          "name": "stdout",
          "text": [
            "Shape :  (234, 256, 256, 3)\n"
          ]
        },
        {
          "output_type": "execute_result",
          "data": {
            "text/plain": [
              "(234, 256, 256, 3)"
            ]
          },
          "metadata": {},
          "execution_count": 4
        }
      ],
      "source": [
        "normal_test_path=r\"/content/drive/MyDrive/Resized_Data/R_NORMAL_Gray_234_test\"\n",
        "normal_test_img=os.listdir(normal_test_path)\n",
        "\n",
        "normal_test=[]\n",
        "for img in normal_test_img:\n",
        "  input_img=cv2.imread(normal_test_path+'/'+img,0)\n",
        "  input_img=cv2.cvtColor(input_img,cv2.COLOR_GRAY2RGB)\n",
        "  normal_test.append(input_img)\n",
        "print(\"Shape : \",np.shape(normal_test))\n",
        "\n",
        "normal_test_array = np.array(normal_test)\n",
        "normal_test_array=normal_test_array.astype('float32')\n",
        "\n",
        "normal_test_array=normal_test_array/255\n",
        "normal_test_array.shape"
      ]
    },
    {
      "cell_type": "code",
      "execution_count": 5,
      "metadata": {
        "colab": {
          "base_uri": "https://localhost:8080/"
        },
        "id": "tVr95trFTUbV",
        "outputId": "e5d005fd-6350-49b4-c25f-ad48333700d8"
      },
      "outputs": [
        {
          "output_type": "stream",
          "name": "stdout",
          "text": [
            "Shape :  (390, 256, 256, 3)\n"
          ]
        },
        {
          "output_type": "execute_result",
          "data": {
            "text/plain": [
              "(390, 256, 256, 3)"
            ]
          },
          "metadata": {},
          "execution_count": 5
        }
      ],
      "source": [
        "pneumonic_test_path=r\"/content/drive/MyDrive/Resized_Data/R_PNEUMONIA_Gray_390_test\"\n",
        "pneumonic_test_img=os.listdir(pneumonic_test_path)\n",
        "\n",
        "pneumonic_test=[]\n",
        "for img in pneumonic_test_img:\n",
        "  input_img=cv2.imread(pneumonic_test_path+'/'+img,0)\n",
        "  input_img = cv2.cvtColor(input_img,cv2.COLOR_GRAY2RGB)\n",
        "  pneumonic_test.append(input_img)\n",
        "\n",
        "print(\"Shape : \",np.shape(pneumonic_test))\n",
        "\n",
        "pneumonic_test_array = np.array(pneumonic_test)\n",
        "pneumonic_test_array=pneumonic_test_array.astype('float32')\n",
        "\n",
        "pneumonic_test_array=pneumonic_test_array/255\n",
        "pneumonic_test_array.shape"
      ]
    },
    {
      "cell_type": "code",
      "execution_count": 6,
      "metadata": {
        "colab": {
          "base_uri": "https://localhost:8080/"
        },
        "id": "9FtfU2qdT1m8",
        "outputId": "2240566b-4636-4e5f-fad6-69eff017d733"
      },
      "outputs": [
        {
          "output_type": "stream",
          "name": "stdout",
          "text": [
            "x_train :  (5226, 256, 256, 3)\n",
            "x_test :  (624, 256, 256, 3)\n",
            "y_train :  5226\n",
            "y_test :  624\n"
          ]
        }
      ],
      "source": [
        "x_train=np.vstack((normal_train,pneumonic_train))\n",
        "x_test=np.vstack((normal_test,pneumonic_test))\n",
        "print(\"x_train : \",x_train.shape)\n",
        "print(\"x_test : \",x_test.shape)\n",
        "\n",
        "y_train=(([0]*normal_train_array.shape[0]) + ([1]*pneumonic_train_array.shape[0]))\n",
        "y_test=(([0]*normal_test_array.shape[0]) + ([1]*pneumonic_test_array.shape[0]))\n",
        "print(\"y_train : \",len(y_train))\n",
        "print(\"y_test : \",len(y_test))\n",
        "\n",
        "from keras.utils import to_categorical\n",
        "y_train = to_categorical(y_train)\n",
        "y_test = to_categorical(y_test)\n",
        "\n",
        "x_train,y_train = shuffle(x_train,y_train,random_state=3)\n",
        "x_test,y_test = shuffle(x_test,y_test,random_state=3)\n"
      ]
    },
    {
      "cell_type": "markdown",
      "metadata": {
        "id": "1n_F4I7gbKSE"
      },
      "source": [
        "\n",
        "<b><h1>Model</h1></b>"
      ]
    },
    {
      "cell_type": "code",
      "execution_count": 7,
      "metadata": {
        "id": "2XEPxKmLb2qD"
      },
      "outputs": [],
      "source": [
        "import tensorflow as tf \n",
        "from tensorflow import keras\n",
        "from tensorflow.keras import layers\n",
        "from tensorflow.python.keras.layers import Dense,Flatten\n",
        "from tensorflow.keras.models import Sequential\n",
        "from tensorflow.keras.optimizers import Adam"
      ]
    },
    {
      "cell_type": "code",
      "execution_count": 8,
      "metadata": {
        "id": "UH89reP3WYAU"
      },
      "outputs": [],
      "source": [
        "Inception_model = Sequential()\n",
        "model=tf.keras.applications.InceptionV3(\n",
        "    include_top=False,\n",
        "    weights=None,\n",
        "    input_tensor=None,\n",
        "    input_shape=(256,256,3),\n",
        "    classes=2,\n",
        "    classifier_activation=\"softmax\",\n",
        ")\n",
        "\n",
        "for layers in model.layers:\n",
        "  layers.trainable = False\n",
        "Inception_model.add(model)\n",
        "Inception_model.add(Flatten())\n",
        "Inception_model.add(Dense(256,activation=\"relu\"))\n",
        "Inception_model.add(Dense(128,activation=\"relu\"))\n",
        "Inception_model.add(Dense(2,activation=\"softmax\"))"
      ]
    },
    {
      "cell_type": "code",
      "execution_count": 9,
      "metadata": {
        "colab": {
          "base_uri": "https://localhost:8080/"
        },
        "id": "DVcrmWJXdchm",
        "outputId": "a4bfbe64-d534-47a1-8c03-ac987cf1a316"
      },
      "outputs": [
        {
          "output_type": "stream",
          "name": "stdout",
          "text": [
            "Model: \"sequential\"\n",
            "_________________________________________________________________\n",
            " Layer (type)                Output Shape              Param #   \n",
            "=================================================================\n",
            " inception_v3 (Functional)   (None, 6, 6, 2048)        21802784  \n",
            "                                                                 \n",
            " module_wrapper (ModuleWrapp  (None, 73728)            0         \n",
            " er)                                                             \n",
            "                                                                 \n",
            " module_wrapper_1 (ModuleWra  (None, 256)              18874624  \n",
            " pper)                                                           \n",
            "                                                                 \n",
            " module_wrapper_2 (ModuleWra  (None, 128)              32896     \n",
            " pper)                                                           \n",
            "                                                                 \n",
            " module_wrapper_3 (ModuleWra  (None, 2)                258       \n",
            " pper)                                                           \n",
            "                                                                 \n",
            "=================================================================\n",
            "Total params: 40,710,562\n",
            "Trainable params: 18,907,778\n",
            "Non-trainable params: 21,802,784\n",
            "_________________________________________________________________\n"
          ]
        }
      ],
      "source": [
        "Inception_model.summary()"
      ]
    },
    {
      "cell_type": "code",
      "execution_count": 10,
      "metadata": {
        "colab": {
          "base_uri": "https://localhost:8080/"
        },
        "id": "hAdZom0CeFYY",
        "outputId": "7e0c017b-5122-4772-8b81-48c3001bf32c"
      },
      "outputs": [
        {
          "output_type": "stream",
          "name": "stderr",
          "text": [
            "/usr/local/lib/python3.8/dist-packages/keras/optimizers/optimizer_v2/adam.py:110: UserWarning: The `lr` argument is deprecated, use `learning_rate` instead.\n",
            "  super(Adam, self).__init__(name, **kwargs)\n"
          ]
        }
      ],
      "source": [
        "Inception_model.compile(optimizer=Adam(lr=0.01),loss='categorical_crossentropy',metrics=['accuracy'])"
      ]
    },
    {
      "cell_type": "code",
      "execution_count": 11,
      "metadata": {
        "colab": {
          "base_uri": "https://localhost:8080/"
        },
        "id": "pB5Cd72delqo",
        "outputId": "eb791096-9a8d-45fa-9130-71c3f40f71c7"
      },
      "outputs": [
        {
          "output_type": "stream",
          "name": "stdout",
          "text": [
            "Epoch 1/10\n",
            "164/164 [==============================] - 31s 113ms/step - loss: 4.2031 - accuracy: 0.6812 - val_loss: 0.4074 - val_accuracy: 0.8494\n",
            "Epoch 2/10\n",
            "164/164 [==============================] - 15s 94ms/step - loss: 0.3426 - accuracy: 0.8624 - val_loss: 0.4226 - val_accuracy: 0.8045\n",
            "Epoch 3/10\n",
            "164/164 [==============================] - 16s 95ms/step - loss: 0.2937 - accuracy: 0.8802 - val_loss: 0.3435 - val_accuracy: 0.8574\n",
            "Epoch 4/10\n",
            "164/164 [==============================] - 16s 96ms/step - loss: 0.2666 - accuracy: 0.8900 - val_loss: 0.3439 - val_accuracy: 0.8670\n",
            "Epoch 5/10\n",
            "164/164 [==============================] - 16s 97ms/step - loss: 0.2537 - accuracy: 0.9030 - val_loss: 0.5542 - val_accuracy: 0.7788\n",
            "Epoch 6/10\n",
            "164/164 [==============================] - 17s 103ms/step - loss: 0.2853 - accuracy: 0.8957 - val_loss: 0.5692 - val_accuracy: 0.6971\n",
            "Epoch 7/10\n",
            "164/164 [==============================] - 16s 98ms/step - loss: 0.2364 - accuracy: 0.9099 - val_loss: 0.3949 - val_accuracy: 0.8285\n",
            "Epoch 8/10\n",
            "164/164 [==============================] - 16s 100ms/step - loss: 0.2465 - accuracy: 0.9041 - val_loss: 0.4162 - val_accuracy: 0.8157\n",
            "Epoch 9/10\n",
            "164/164 [==============================] - 16s 99ms/step - loss: 0.2133 - accuracy: 0.9189 - val_loss: 0.4599 - val_accuracy: 0.8157\n",
            "Epoch 10/10\n",
            "164/164 [==============================] - 16s 100ms/step - loss: 0.2144 - accuracy: 0.9170 - val_loss: 0.3522 - val_accuracy: 0.8478\n"
          ]
        }
      ],
      "source": [
        "history = Inception_model.fit(x_train,y_train, validation_data=(x_test,y_test), epochs=10)"
      ]
    },
    {
      "cell_type": "code",
      "execution_count": 12,
      "metadata": {
        "colab": {
          "base_uri": "https://localhost:8080/",
          "height": 295
        },
        "id": "K1zF7YSIfJp9",
        "outputId": "13de1b72-8c80-42f7-f742-802bd2cbbcaa"
      },
      "outputs": [
        {
          "output_type": "display_data",
          "data": {
            "text/plain": [
              "<Figure size 432x288 with 1 Axes>"
            ],
            "image/png": "[encoded data removed]"
          },
          "metadata": {
            "needs_background": "light"
          }
        }
      ],
      "source": [
        "import matplotlib.pyplot as plt\n",
        "fig1 = plt.gcf()\n",
        "plt.plot(history.history['accuracy'])\n",
        "plt.plot(history.history['val_accuracy'])\n",
        "plt.axis(ymin=0.4,ymax=1)\n",
        "plt.grid()\n",
        "plt.title('Model Accuracy')\n",
        "plt.ylabel('Accuracy')\n",
        "plt.xlabel('Epochs')\n",
        "plt.legend(['train', 'validation'])\n",
        "plt.show()"
      ]
    },
    {
      "cell_type": "code",
      "source": [],
      "metadata": {
        "id": "OnfE31T7VgXC"
      },
      "execution_count": 12,
      "outputs": []
    }
  ],
  "metadata": {
    "accelerator": "GPU",
    "colab": {
      "provenance": [],
      "mount_file_id": "14dsjn8MIPZTxcfciewTxUZiWjw9ThWYP",
      "authorship_tag": "ABX9TyNvSizQuYD8iKG4BPTHr8gF",
      "include_colab_link": true
    },
    "gpuClass": "standard",
    "kernelspec": {
      "display_name": "Python 3",
      "name": "python3"
    },
    "language_info": {
      "name": "python"
    }
  },
  "nbformat": 4,
  "nbformat_minor": 0
}