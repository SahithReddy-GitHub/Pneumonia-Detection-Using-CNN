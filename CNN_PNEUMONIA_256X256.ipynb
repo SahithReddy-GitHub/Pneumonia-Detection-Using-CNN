{
  "cells": [
    {
      "cell_type": "markdown",
      "metadata": {
        "id": "view-in-github",
        "colab_type": "text"
      },
      "source": [
        "<a href=\"https://colab.research.google.com/github/SahithReddy-GitHub/Pneumonia-Detection-Using-CNN/blob/main/CNN_PNEUMONIA_256X256.ipynb\" target=\"_parent\"><img src=\"https://colab.research.google.com/assets/colab-badge.svg\" alt=\"Open In Colab\"/></a>"
      ]
    },
    {
      "cell_type": "markdown",
      "metadata": {
        "id": "gnooxJGX3W7S"
      },
      "source": [
        "Model :- CNN <br>\n",
        "Filters :- [16,32,64,64,128] <br>\n",
        "Total Data :- 5850  <br>\n",
        "Image_size :- 256x256  <br>\n",
        "Epochs  :- 30  <br>\n",
        "loss: 0.5792 - accuracy: 0.7344 - val_loss: 0.5972 - val_accuracy: 0.7162"
      ]
    },
    {
      "cell_type": "code",
      "execution_count": 1,
      "metadata": {
        "id": "GmevLyVE6cRR"
      },
      "outputs": [],
      "source": [
        "import pandas as pd\n",
        "import numpy as np\n",
        "import matplotlib.pyplot as plt\n",
        "import os\n",
        "import cv2\n",
        "\n",
        "import tensorflow as tf\n",
        "from tensorflow.keras import models, layers\n",
        "from tensorflow import keras\n",
        "from tensorflow.keras.models import Sequential\n",
        "from tensorflow.keras.layers import *\n",
        "\n",
        "from sklearn.utils import shuffle\n",
        "from sklearn.model_selection import train_test_split\n",
        "from sklearn.model_selection import cross_val_score"
      ]
    },
    {
      "cell_type": "code",
      "execution_count": 2,
      "metadata": {
        "colab": {
          "base_uri": "https://localhost:8080/"
        },
        "id": "pi4AG0Fc69le",
        "outputId": "abac93ff-1fec-4385-af63-039cbefa7abe"
      },
      "outputs": [
        {
          "output_type": "stream",
          "name": "stdout",
          "text": [
            "shape (1341, 256, 256)\n",
            "[[ 0  0  0 ... 57 57 57]\n",
            " [ 2  3  3 ... 61 62 62]\n",
            " [10 10 10 ... 66 68 69]\n",
            " ...\n",
            " [ 0  0  0 ...  0  0  1]\n",
            " [ 0  0  0 ...  0  0  1]\n",
            " [ 0  0  0 ...  0  0  1]]\n",
            "[[0.         0.         0.         ... 0.22352941 0.22352941 0.22352941]\n",
            " [0.00784314 0.01176471 0.01176471 ... 0.23921569 0.24313726 0.24313726]\n",
            " [0.03921569 0.03921569 0.03921569 ... 0.25882354 0.26666668 0.27058825]\n",
            " ...\n",
            " [0.         0.         0.         ... 0.         0.         0.00392157]\n",
            " [0.         0.         0.         ... 0.         0.         0.00392157]\n",
            " [0.         0.         0.         ... 0.         0.         0.00392157]]\n"
          ]
        },
        {
          "output_type": "execute_result",
          "data": {
            "text/plain": [
              "(1341, 256, 256)"
            ]
          },
          "metadata": {},
          "execution_count": 2
        }
      ],
      "source": [
        "normal_train_path = r\"/content/drive/MyDrive/Resized_Data/R_NORMAL_Gray_1341_train\"\n",
        "normal_train_img = os.listdir(normal_train_path)\n",
        "\n",
        "normal_train = []\n",
        "for img in normal_train_img:\n",
        "  input_img = cv2.imread(normal_train_path+ '/' + img,0)\n",
        "  # ref = cv2.resize(input_img,(256,256))\n",
        "  normal_train.append(input_img)\n",
        "print(\"shape\",np.shape(normal_train))\n",
        "\n",
        "normal_train_array = np.array(normal_train)\n",
        "print(normal_train_array[0])\n",
        "normal_train_array = normal_train_array.astype('float32')\n",
        "\n",
        "normal_train_array /= 255\n",
        "print(normal_train_array[0])\n",
        "normal_train_array.shape"
      ]
    },
    {
      "cell_type": "code",
      "execution_count": 3,
      "metadata": {
        "colab": {
          "base_uri": "https://localhost:8080/"
        },
        "id": "cd-3FwnP7Ce9",
        "outputId": "b7df0906-33aa-4622-c975-740ed76bd304"
      },
      "outputs": [
        {
          "output_type": "stream",
          "name": "stdout",
          "text": [
            "shape (3885, 256, 256)\n"
          ]
        },
        {
          "output_type": "execute_result",
          "data": {
            "text/plain": [
              "(3885, 256, 256)"
            ]
          },
          "metadata": {},
          "execution_count": 3
        }
      ],
      "source": [
        "pneumonic_train_path = r\"/content/drive/MyDrive/Resized_Data/R_PNEUMONIA_Gray_3875_train\"\n",
        "pneumonic_train_img = os.listdir(pneumonic_train_path)\n",
        "\n",
        "pneumonic_train = []\n",
        "for img in pneumonic_train_img:\n",
        "  input_img = cv2.imread(pneumonic_train_path+ '/' + img,0)\n",
        "  # ref = cv2.resize(input_img,(256,256))\n",
        "  pneumonic_train.append(input_img)\n",
        "print(\"shape\",np.shape(pneumonic_train))\n",
        "\n",
        "pneumonic_train_array = np.array(pneumonic_train)\n",
        "pneumonic_train_array = pneumonic_train_array.astype('float32')\n",
        "\n",
        "pneumonic_train_array /= 255\n",
        "pneumonic_train_array.shape"
      ]
    },
    {
      "cell_type": "code",
      "execution_count": 4,
      "metadata": {
        "colab": {
          "base_uri": "https://localhost:8080/"
        },
        "id": "5qXxA2IN7XDK",
        "outputId": "bc612c6a-ffbf-4459-c4c0-6bf606e6413d"
      },
      "outputs": [
        {
          "output_type": "stream",
          "name": "stdout",
          "text": [
            "shape (234, 256, 256)\n"
          ]
        },
        {
          "output_type": "execute_result",
          "data": {
            "text/plain": [
              "(234, 256, 256)"
            ]
          },
          "metadata": {},
          "execution_count": 4
        }
      ],
      "source": [
        "normal_test_path = r\"/content/drive/MyDrive/Resized_Data/R_NORMAL_Gray_234_test\"\n",
        "normal_test_img = os.listdir(normal_test_path)\n",
        "\n",
        "normal_test = []\n",
        "for img in normal_test_img:\n",
        "  input_img = cv2.imread(normal_test_path+ '/' + img,0)\n",
        "  # ref = cv2.resize(input_img,(256,256))\n",
        "  normal_test.append(input_img)\n",
        "print(\"shape\",np.shape(normal_test))\n",
        "\n",
        "normal_test_array = np.array(normal_test)\n",
        "normal_test_array = normal_test_array.astype('float32')\n",
        "\n",
        "normal_test_array /= 255\n",
        "normal_test_array.shape"
      ]
    },
    {
      "cell_type": "code",
      "execution_count": 5,
      "metadata": {
        "colab": {
          "base_uri": "https://localhost:8080/"
        },
        "id": "2QNw7mHD7mXy",
        "outputId": "7267a32a-2811-4794-de07-228176c2a678"
      },
      "outputs": [
        {
          "output_type": "stream",
          "name": "stdout",
          "text": [
            "shape (390, 256, 256)\n"
          ]
        },
        {
          "output_type": "execute_result",
          "data": {
            "text/plain": [
              "(390, 256, 256)"
            ]
          },
          "metadata": {},
          "execution_count": 5
        }
      ],
      "source": [
        "pneumonic_test_path = r\"/content/drive/MyDrive/Resized_Data/R_PNEUMONIA_Gray_390_test\"\n",
        "pneumonic_test_img = os.listdir(pneumonic_test_path)\n",
        "\n",
        "pneumonic_test = []\n",
        "for img in pneumonic_test_img:\n",
        "  input_img = cv2.imread(pneumonic_test_path+ '/' + img,0)\n",
        "  # ref = cv2.resize(input_img,(256,256))\n",
        "  pneumonic_test.append(input_img)\n",
        "print(\"shape\",np.shape(pneumonic_test))\n",
        "\n",
        "pneumonic_test_array = np.array(pneumonic_test)\n",
        "pneumonic_test_array = pneumonic_test_array.astype('float32')\n",
        "\n",
        "pneumonic_test_array /= 255\n",
        "pneumonic_test_array.shape"
      ]
    },
    {
      "cell_type": "code",
      "execution_count": 6,
      "metadata": {
        "id": "a3h3c8HJ7_2o"
      },
      "outputs": [],
      "source": [
        "x = np.vstack((normal_train_array,normal_test_array,pneumonic_train_array,pneumonic_test_array))"
      ]
    },
    {
      "cell_type": "code",
      "execution_count": 7,
      "metadata": {
        "colab": {
          "base_uri": "https://localhost:8080/"
        },
        "id": "pOWkkfeNudNX",
        "outputId": "f13eb851-6192-4e5e-aa58-23177dcbde33"
      },
      "outputs": [
        {
          "output_type": "execute_result",
          "data": {
            "text/plain": [
              "(5850, 256, 256)"
            ]
          },
          "metadata": {},
          "execution_count": 7
        }
      ],
      "source": [
        "x.shape"
      ]
    },
    {
      "cell_type": "code",
      "execution_count": 8,
      "metadata": {
        "colab": {
          "base_uri": "https://localhost:8080/"
        },
        "id": "nqDwUsMAvGbL",
        "outputId": "0b5a38ae-2bff-40ac-bf62-dd895db4a74c"
      },
      "outputs": [
        {
          "output_type": "execute_result",
          "data": {
            "text/plain": [
              "(5850, 256, 256, 1)"
            ]
          },
          "metadata": {},
          "execution_count": 8
        }
      ],
      "source": [
        "x = np.expand_dims(x,axis=3)\n",
        "x.shape"
      ]
    },
    {
      "cell_type": "code",
      "execution_count": 9,
      "metadata": {
        "colab": {
          "base_uri": "https://localhost:8080/"
        },
        "id": "1GkosAPxvQvQ",
        "outputId": "94c10956-c759-4488-fa34-c24243d7b2c8"
      },
      "outputs": [
        {
          "output_type": "stream",
          "name": "stdout",
          "text": [
            "5850\n"
          ]
        }
      ],
      "source": [
        "y = [0]*(normal_train_array.shape[0]+normal_test_array.shape[0]) + [1]*(pneumonic_test_array.shape[0]+pneumonic_train_array.shape[0])\n",
        "y = np.array(y)\n",
        "from keras.utils import to_categorical\n",
        "y= to_categorical(y)\n",
        "print(len(y))"
      ]
    },
    {
      "cell_type": "code",
      "execution_count": 10,
      "metadata": {
        "colab": {
          "base_uri": "https://localhost:8080/"
        },
        "id": "yHjq6gIdvg_L",
        "outputId": "98dbadbc-36ce-4555-9c4f-905f6ba01fb7"
      },
      "outputs": [
        {
          "output_type": "execute_result",
          "data": {
            "text/plain": [
              "array([1., 0.], dtype=float32)"
            ]
          },
          "metadata": {},
          "execution_count": 10
        }
      ],
      "source": [
        "y[0]"
      ]
    },
    {
      "cell_type": "code",
      "execution_count": 11,
      "metadata": {
        "colab": {
          "base_uri": "https://localhost:8080/"
        },
        "id": "i2Foq5UIv3kE",
        "outputId": "612fe26a-a457-4af8-a0c1-ac8947d74964"
      },
      "outputs": [
        {
          "output_type": "execute_result",
          "data": {
            "text/plain": [
              "array([[1., 0.],\n",
              "       [0., 1.],\n",
              "       [0., 1.],\n",
              "       ...,\n",
              "       [0., 1.],\n",
              "       [0., 1.],\n",
              "       [0., 1.]], dtype=float32)"
            ]
          },
          "metadata": {},
          "execution_count": 11
        }
      ],
      "source": [
        "y[1574:]"
      ]
    },
    {
      "cell_type": "code",
      "execution_count": 12,
      "metadata": {
        "id": "66yoC4qkw1wv"
      },
      "outputs": [],
      "source": [
        "x,y = shuffle(x,y, random_state=3)"
      ]
    },
    {
      "cell_type": "code",
      "execution_count": 13,
      "metadata": {
        "id": "r5-I0CbLxRGg"
      },
      "outputs": [],
      "source": [
        "### crashing \n",
        "x_train, x_test, y_train, y_test = train_test_split(x,y, test_size=0.2,random_state=32)"
      ]
    },
    {
      "cell_type": "code",
      "execution_count": 14,
      "metadata": {
        "colab": {
          "base_uri": "https://localhost:8080/"
        },
        "id": "91Zl-mrRxtHh",
        "outputId": "0bd3791f-59e2-4f60-f859-f6caa6e04809"
      },
      "outputs": [
        {
          "output_type": "execute_result",
          "data": {
            "text/plain": [
              "(1170, 256, 256, 1)"
            ]
          },
          "metadata": {},
          "execution_count": 14
        }
      ],
      "source": [
        "x_train.shape\n",
        "x_test.shape"
      ]
    },
    {
      "cell_type": "code",
      "execution_count": 15,
      "metadata": {
        "id": "I_hL9lEbx4v6"
      },
      "outputs": [],
      "source": [
        "img_rows, img_cols = 256,256\n",
        "input_shape = (img_rows, img_cols, 1)"
      ]
    },
    {
      "cell_type": "code",
      "execution_count": 16,
      "metadata": {
        "id": "0bkptUhTykm3"
      },
      "outputs": [],
      "source": [
        "filter = [16,32,64,64,128]"
      ]
    },
    {
      "cell_type": "code",
      "execution_count": 17,
      "metadata": {
        "id": "XlaMmjSHynf3"
      },
      "outputs": [],
      "source": [
        "model = Sequential()\n",
        "model.add(Conv2D(input_shape=(256,256,1),filters=filter[0],kernel_size=(3,3),padding=\"same\", activation=\"relu\"))\n",
        "model.add(Conv2D(filters=filter[0],kernel_size=(3,3),padding=\"same\", activation=\"relu\"))\n",
        "model.add(MaxPool2D(pool_size=(2,2),strides=None))\n",
        "\n",
        "model.add(Conv2D(filters=filter[1], kernel_size=(3,3), padding=\"same\", activation=\"relu\"))\n",
        "model.add(Conv2D(filters=filter[1], kernel_size=(3,3), padding=\"same\", activation=\"relu\"))\n",
        "model.add(Conv2D(filters=filter[1], kernel_size=(3,3), padding=\"same\", activation=\"relu\"))\n",
        "model.add(MaxPool2D(pool_size=(2,2),strides=None))\n",
        "\n",
        "model.add(Conv2D(filters=filter[2], kernel_size=(3,3), padding=\"same\", activation=\"relu\"))\n",
        "model.add(Conv2D(filters=filter[2], kernel_size=(3,3), padding=\"same\", activation=\"relu\"))\n",
        "model.add(Conv2D(filters=filter[2], kernel_size=(3,3), padding=\"same\", activation=\"relu\"))\n",
        "model.add(Conv2D(filters=filter[2], kernel_size=(3,3), padding=\"same\", activation=\"relu\"))\n",
        "model.add(MaxPool2D(pool_size=(2,2),strides=None))\n",
        "\n",
        "model.add(Conv2D(filters=filter[3], kernel_size=(3,3), padding=\"same\", activation=\"relu\"))\n",
        "model.add(Conv2D(filters=filter[3], kernel_size=(3,3), padding=\"same\", activation=\"relu\"))\n",
        "model.add(Conv2D(filters=filter[3], kernel_size=(3,3), padding=\"same\", activation=\"relu\"))\n",
        "model.add(MaxPool2D(pool_size=(2,2),strides=None))\n",
        "\n",
        "model.add(Conv2D(filters=filter[4], kernel_size=(3,3), padding=\"same\", activation=\"relu\"))\n",
        "model.add(Conv2D(filters=filter[4], kernel_size=(3,3), padding=\"same\", activation=\"relu\"))\n",
        "model.add(Conv2D(filters=filter[4], kernel_size=(3,3), padding=\"same\", activation=\"relu\"))\n",
        "model.add(Conv2D(filters=filter[4], kernel_size=(3,3), padding=\"same\", activation=\"relu\"))\n",
        "model.add(MaxPool2D(pool_size=(2,2),strides=None))\n",
        "\n",
        "# model.add(Conv2D(filters=256, kernel_size=(3,3), padding=\"same\", activation=\"relu\"))\n",
        "# model.add(Conv2D(filters=256, kernel_size=(3,3), padding=\"same\", activation=\"relu\"))\n",
        "# model.add(Conv2D(filters=256, kernel_size=(3,3), padding=\"same\", activation=\"relu\"))\n",
        "# model.add(MaxPool2D(pool_size=(2,2),strides=None))"
      ]
    },
    {
      "cell_type": "code",
      "execution_count": 18,
      "metadata": {
        "id": "o-5pKP9izObt"
      },
      "outputs": [],
      "source": [
        "model.add(Flatten())\n",
        "model.add(Dense(units=50,activation=\"relu\"))\n",
        "model.add(Dense(units=50,activation=\"relu\"))\n",
        "model.add(Dense(units=2, activation=\"softmax\"))\n",
        "\n",
        "# model.add(Dense(units=50,activation=\"relu\"))\n",
        "# model.add(Dense(units=50,activation=\"relu\"))\n"
      ]
    },
    {
      "cell_type": "code",
      "execution_count": 19,
      "metadata": {
        "id": "FAUsLQVYzUcE"
      },
      "outputs": [],
      "source": [
        "from tensorflow.keras.optimizers import Adam\n",
        "opt = Adam(learning_rate=0.002)\n",
        "model.compile(optimizer=opt, loss=keras.losses.categorical_crossentropy, metrics=['accuracy'])"
      ]
    },
    {
      "cell_type": "code",
      "execution_count": 20,
      "metadata": {
        "colab": {
          "base_uri": "https://localhost:8080/"
        },
        "id": "SVXIopU1zcU0",
        "outputId": "daa4b777-cde2-4aef-9c36-b0a2f2db763d"
      },
      "outputs": [
        {
          "output_type": "stream",
          "name": "stdout",
          "text": [
            "Model: \"sequential\"\n",
            "_________________________________________________________________\n",
            " Layer (type)                Output Shape              Param #   \n",
            "=================================================================\n",
            " conv2d (Conv2D)             (None, 256, 256, 16)      160       \n",
            "                                                                 \n",
            " conv2d_1 (Conv2D)           (None, 256, 256, 16)      2320      \n",
            "                                                                 \n",
            " max_pooling2d (MaxPooling2D  (None, 128, 128, 16)     0         \n",
            " )                                                               \n",
            "                                                                 \n",
            " conv2d_2 (Conv2D)           (None, 128, 128, 32)      4640      \n",
            "                                                                 \n",
            " conv2d_3 (Conv2D)           (None, 128, 128, 32)      9248      \n",
            "                                                                 \n",
            " conv2d_4 (Conv2D)           (None, 128, 128, 32)      9248      \n",
            "                                                                 \n",
            " max_pooling2d_1 (MaxPooling  (None, 64, 64, 32)       0         \n",
            " 2D)                                                             \n",
            "                                                                 \n",
            " conv2d_5 (Conv2D)           (None, 64, 64, 64)        18496     \n",
            "                                                                 \n",
            " conv2d_6 (Conv2D)           (None, 64, 64, 64)        36928     \n",
            "                                                                 \n",
            " conv2d_7 (Conv2D)           (None, 64, 64, 64)        36928     \n",
            "                                                                 \n",
            " conv2d_8 (Conv2D)           (None, 64, 64, 64)        36928     \n",
            "                                                                 \n",
            " max_pooling2d_2 (MaxPooling  (None, 32, 32, 64)       0         \n",
            " 2D)                                                             \n",
            "                                                                 \n",
            " conv2d_9 (Conv2D)           (None, 32, 32, 64)        36928     \n",
            "                                                                 \n",
            " conv2d_10 (Conv2D)          (None, 32, 32, 64)        36928     \n",
            "                                                                 \n",
            " conv2d_11 (Conv2D)          (None, 32, 32, 64)        36928     \n",
            "                                                                 \n",
            " max_pooling2d_3 (MaxPooling  (None, 16, 16, 64)       0         \n",
            " 2D)                                                             \n",
            "                                                                 \n",
            " conv2d_12 (Conv2D)          (None, 16, 16, 128)       73856     \n",
            "                                                                 \n",
            " conv2d_13 (Conv2D)          (None, 16, 16, 128)       147584    \n",
            "                                                                 \n",
            " conv2d_14 (Conv2D)          (None, 16, 16, 128)       147584    \n",
            "                                                                 \n",
            " conv2d_15 (Conv2D)          (None, 16, 16, 128)       147584    \n",
            "                                                                 \n",
            " max_pooling2d_4 (MaxPooling  (None, 8, 8, 128)        0         \n",
            " 2D)                                                             \n",
            "                                                                 \n",
            " flatten (Flatten)           (None, 8192)              0         \n",
            "                                                                 \n",
            " dense (Dense)               (None, 50)                409650    \n",
            "                                                                 \n",
            " dense_1 (Dense)             (None, 50)                2550      \n",
            "                                                                 \n",
            " dense_2 (Dense)             (None, 2)                 102       \n",
            "                                                                 \n",
            "=================================================================\n",
            "Total params: 1,194,590\n",
            "Trainable params: 1,194,590\n",
            "Non-trainable params: 0\n",
            "_________________________________________________________________\n"
          ]
        }
      ],
      "source": [
        "model.summary()"
      ]
    },
    {
      "cell_type": "code",
      "execution_count": 21,
      "metadata": {
        "colab": {
          "base_uri": "https://localhost:8080/"
        },
        "id": "kJk9X32aze1M",
        "outputId": "735da106-6aa2-46a3-9af2-c1e44597550c"
      },
      "outputs": [
        {
          "output_type": "stream",
          "name": "stdout",
          "text": [
            "Epoch 1/5\n",
            "147/147 [==============================] - 1379s 9s/step - loss: 0.6817 - accuracy: 0.7344 - val_loss: 0.5978 - val_accuracy: 0.7162\n",
            "Epoch 2/5\n",
            "147/147 [==============================] - 1373s 9s/step - loss: 0.5817 - accuracy: 0.7344 - val_loss: 0.5976 - val_accuracy: 0.7162\n",
            "Epoch 3/5\n",
            "147/147 [==============================] - 1375s 9s/step - loss: 0.5838 - accuracy: 0.7344 - val_loss: 0.5981 - val_accuracy: 0.7162\n",
            "Epoch 4/5\n",
            "147/147 [==============================] - 1367s 9s/step - loss: 0.5817 - accuracy: 0.7344 - val_loss: 0.6111 - val_accuracy: 0.7162\n",
            "Epoch 5/5\n",
            "147/147 [==============================] - 1367s 9s/step - loss: 0.5811 - accuracy: 0.7344 - val_loss: 0.5989 - val_accuracy: 0.7162\n"
          ]
        },
        {
          "output_type": "execute_result",
          "data": {
            "text/plain": [
              "<keras.callbacks.History at 0x7fc7d7b7ee20>"
            ]
          },
          "metadata": {},
          "execution_count": 21
        }
      ],
      "source": [
        "model.fit(x_train, y_train, validation_data=(x_test, y_test), epochs=5)"
      ]
    },
    {
      "cell_type": "code",
      "execution_count": 22,
      "metadata": {
        "id": "fGuK4sF90HK_",
        "colab": {
          "base_uri": "https://localhost:8080/"
        },
        "outputId": "45c01bb5-4a28-496d-d4dc-5d76b59094a8"
      },
      "outputs": [
        {
          "output_type": "stream",
          "name": "stdout",
          "text": [
            "37/37 [==============================] - 80s 2s/step - loss: 0.5989 - accuracy: 0.7162\n"
          ]
        }
      ],
      "source": [
        "loss, accuracy = model.evaluate(x_test, y_test, verbose=1)"
      ]
    },
    {
      "cell_type": "code",
      "execution_count": 23,
      "metadata": {
        "id": "7zI6MLlRpztK",
        "colab": {
          "base_uri": "https://localhost:8080/"
        },
        "outputId": "c1e1dcad-79e1-46d2-ef36-55ccb0392439"
      },
      "outputs": [
        {
          "output_type": "stream",
          "name": "stdout",
          "text": [
            "37/37 [==============================] - 78s 2s/step\n"
          ]
        }
      ],
      "source": [
        "pred=model.predict(x_test)"
      ]
    }
  ],
  "metadata": {
    "colab": {
      "provenance": [],
      "mount_file_id": "1Llx_B2N_kDapm7oGDz5xjRm44T3lo3KM",
      "authorship_tag": "ABX9TyNGUFoJYOdC/3hlaVhQxsIL",
      "include_colab_link": true
    },
    "kernelspec": {
      "display_name": "Python 3",
      "name": "python3"
    },
    "language_info": {
      "name": "python"
    },
    "gpuClass": "standard"
  },
  "nbformat": 4,
  "nbformat_minor": 0
}